{
  "cells": [
    {
      "cell_type": "markdown",
      "metadata": {
        "id": "akg00w5Mlkiy"
      },
      "source": [
        "# Introduction to Python programming"
      ]
    },
    {
      "cell_type": "markdown",
      "metadata": {
        "id": "HA3iodcmlki5"
      },
      "source": [
        "## Variables and types"
      ]
    },
    {
      "cell_type": "markdown",
      "metadata": {
        "id": "aaHdPYfAlki6"
      },
      "source": [
        "### Symbol names"
      ]
    },
    {
      "cell_type": "markdown",
      "metadata": {
        "id": "RCuPTOHDlki6"
      },
      "source": [
        "Variable names in Python can contain alphanumerical characters `a-z`, `A-Z`, `0-9` and some special characters such as `_`. Normal variable names must start with a letter.\n",
        "\n",
        "By convention, variable names start with a lower-case letter, and Class names start with a capital letter.\n",
        "\n",
        "In addition, there are a number of Python keywords that cannot be used as variable names. These keywords are:\n",
        "\n",
        "    and, as, assert, break, class, continue, def, del, elif, else, except,\n",
        "    exec, finally, for, from, global, if, import, in, is, lambda, not, or,\n",
        "    pass, print, raise, return, try, while, with, yield\n",
        "\n",
        "Note: Be aware of the keyword `lambda`, which could easily be a natural variable name in a scientific program. But being a keyword, it cannot be used as a variable name."
      ]
    },
    {
      "cell_type": "markdown",
      "metadata": {
        "id": "Jpl0gzRZlki7"
      },
      "source": [
        "### Assignment"
      ]
    },
    {
      "cell_type": "markdown",
      "metadata": {
        "id": "Dg6R0b81lki7"
      },
      "source": [
        "\n",
        "\n",
        "The assignment operator in Python is `=`. Python is a dynamically typed language, so we do not need to specify the type of a variable when we create one.\n",
        "\n",
        "Assigning a value to a new variable creates the variable:"
      ]
    },
    {
      "cell_type": "code",
      "execution_count": 1,
      "metadata": {
        "id": "QsWX0cYTlki8"
      },
      "outputs": [],
      "source": [
        "# variable assignments\n",
        "x = 1.0\n",
        "my_variable = 12.2"
      ]
    },
    {
      "cell_type": "markdown",
      "metadata": {
        "id": "4SzJRjlUlki-"
      },
      "source": [
        "Although not explicitly specified, a variable does have a type associated with it. The type is derived from the value that was assigned to it."
      ]
    },
    {
      "cell_type": "code",
      "execution_count": 3,
      "metadata": {
        "id": "mbGJ4SOFlki-",
        "outputId": "b92cd545-44a3-49d0-ba17-c8480be49b29",
        "colab": {
          "base_uri": "https://localhost:8080/"
        }
      },
      "outputs": [
        {
          "output_type": "stream",
          "name": "stdout",
          "text": [
            "<class 'float'>\n"
          ]
        }
      ],
      "source": [
        "print (type(x))"
      ]
    },
    {
      "cell_type": "markdown",
      "metadata": {
        "id": "STRDtOFMlki_"
      },
      "source": [
        "If we assign a new value to a variable, its type can change."
      ]
    },
    {
      "cell_type": "code",
      "execution_count": 4,
      "metadata": {
        "id": "ve41KMpdlki_"
      },
      "outputs": [],
      "source": [
        "x = 1"
      ]
    },
    {
      "cell_type": "code",
      "execution_count": 5,
      "metadata": {
        "scrolled": true,
        "id": "1RabD8sKlkjA",
        "outputId": "528078bb-2c7d-417d-dc25-f069d0a588f2",
        "colab": {
          "base_uri": "https://localhost:8080/"
        }
      },
      "outputs": [
        {
          "output_type": "stream",
          "name": "stdout",
          "text": [
            "<class 'int'>\n"
          ]
        }
      ],
      "source": [
        "print (type(x))"
      ]
    },
    {
      "cell_type": "markdown",
      "metadata": {
        "id": "WCwOvpsJlkjA"
      },
      "source": [
        "If we try to use a variable that has not yet been defined we get an `NameError`:"
      ]
    },
    {
      "cell_type": "markdown",
      "metadata": {
        "id": "wknErVmZlkjA"
      },
      "source": [
        "### Fundamental types"
      ]
    },
    {
      "cell_type": "code",
      "execution_count": 6,
      "metadata": {
        "id": "eI8ckVhplkjA",
        "outputId": "98bd03fe-a728-4f6b-b49f-76ef11e25886",
        "colab": {
          "base_uri": "https://localhost:8080/"
        }
      },
      "outputs": [
        {
          "output_type": "stream",
          "name": "stdout",
          "text": [
            "<class 'int'>\n"
          ]
        }
      ],
      "source": [
        "# integers\n",
        "x = 1\n",
        "print (type(x))"
      ]
    },
    {
      "cell_type": "code",
      "execution_count": 7,
      "metadata": {
        "id": "CqvACJFTlkjA",
        "outputId": "63197d2b-04a6-451b-9cdd-dc030f1b5255",
        "colab": {
          "base_uri": "https://localhost:8080/"
        }
      },
      "outputs": [
        {
          "output_type": "stream",
          "name": "stdout",
          "text": [
            "<class 'float'>\n"
          ]
        }
      ],
      "source": [
        "# float\n",
        "x = 1.0\n",
        "print (type(x))"
      ]
    },
    {
      "cell_type": "code",
      "execution_count": 9,
      "metadata": {
        "id": "_UM-6c16lkjB",
        "outputId": "f1cdb534-fc4c-4597-fb7b-febf6591b157",
        "colab": {
          "base_uri": "https://localhost:8080/"
        }
      },
      "outputs": [
        {
          "output_type": "stream",
          "name": "stdout",
          "text": [
            "<class 'bool'>\n"
          ]
        }
      ],
      "source": [
        "# boolean\n",
        "b1 = True\n",
        "b2 = False\n",
        "\n",
        "print (type(b1))"
      ]
    },
    {
      "cell_type": "code",
      "execution_count": 10,
      "metadata": {
        "id": "oVSqro2VlkjB",
        "outputId": "439e7e34-7cea-442a-d8d8-e8678c3ee8a4",
        "colab": {
          "base_uri": "https://localhost:8080/"
        }
      },
      "outputs": [
        {
          "output_type": "stream",
          "name": "stdout",
          "text": [
            "<class 'complex'>\n"
          ]
        }
      ],
      "source": [
        "# complex numbers: note the use of `j` to specify the imaginary part\n",
        "x = 1.0 - 1.0j\n",
        "print (type(x))"
      ]
    },
    {
      "cell_type": "code",
      "execution_count": 11,
      "metadata": {
        "id": "OToWevlDlkjB",
        "outputId": "38a3a24a-b177-4074-c740-2ad83896f141",
        "colab": {
          "base_uri": "https://localhost:8080/"
        }
      },
      "outputs": [
        {
          "output_type": "stream",
          "name": "stdout",
          "text": [
            "(1-1j)\n"
          ]
        }
      ],
      "source": [
        "print (x)"
      ]
    },
    {
      "cell_type": "code",
      "execution_count": 12,
      "metadata": {
        "id": "H2FbYpc-lkjC",
        "outputId": "a89ce148-917a-46f9-8738-0047a47e9135",
        "colab": {
          "base_uri": "https://localhost:8080/"
        }
      },
      "outputs": [
        {
          "output_type": "stream",
          "name": "stdout",
          "text": [
            "1.0 -1.0\n"
          ]
        }
      ],
      "source": [
        "print( x.real, x.imag)"
      ]
    },
    {
      "cell_type": "markdown",
      "metadata": {
        "id": "CidfPkVqlkjG"
      },
      "source": [
        "## Operators and comparisons"
      ]
    },
    {
      "cell_type": "markdown",
      "metadata": {
        "id": "BFR7vuvalkjH"
      },
      "source": [
        "Most operators and comparisons in Python work as one would expect:\n",
        "\n",
        "* Arithmetic operators `+`, `-`, `*`, `/`, `//` (integer division), '**' power\n"
      ]
    },
    {
      "cell_type": "code",
      "execution_count": null,
      "metadata": {
        "id": "QzSL26helkjI",
        "outputId": "0bb935b0-e156-41b1-b7dc-ccdde18c0fa1"
      },
      "outputs": [
        {
          "name": "stdout",
          "output_type": "stream",
          "text": [
            "3 -1 2 0\n"
          ]
        }
      ],
      "source": [
        "print  (1 + 2, 1 - 2, 1 * 2, 1 / 2)"
      ]
    },
    {
      "cell_type": "code",
      "execution_count": 13,
      "metadata": {
        "id": "zYKKdUSMlkjI",
        "outputId": "6160cf9a-6d82-4a3a-b1bd-4642dc93bac7",
        "colab": {
          "base_uri": "https://localhost:8080/"
        }
      },
      "outputs": [
        {
          "output_type": "stream",
          "name": "stdout",
          "text": [
            "3.0 -1.0 2.0 0.5\n"
          ]
        }
      ],
      "source": [
        "print  (1.0 + 2.0, 1.0 - 2.0, 1.0 * 2.0, 1.0 / 2.0)"
      ]
    },
    {
      "cell_type": "code",
      "execution_count": 14,
      "metadata": {
        "id": "4eP-SVZ6lkjJ",
        "outputId": "b4363f06-cd7d-42ee-ffd1-1ab0abc042e5",
        "colab": {
          "base_uri": "https://localhost:8080/"
        }
      },
      "outputs": [
        {
          "output_type": "stream",
          "name": "stdout",
          "text": [
            "1.0\n"
          ]
        }
      ],
      "source": [
        "# Integer division of float numbers\n",
        "print  (3.0 // 2.0)"
      ]
    },
    {
      "cell_type": "code",
      "execution_count": 15,
      "metadata": {
        "id": "wWzOJSLClkjJ",
        "outputId": "986e0036-81ff-4b87-84f5-34376775b5f2",
        "colab": {
          "base_uri": "https://localhost:8080/"
        }
      },
      "outputs": [
        {
          "output_type": "stream",
          "name": "stdout",
          "text": [
            "4\n"
          ]
        }
      ],
      "source": [
        "# Note! The power operators in python isn't ^, but **\n",
        "print (2 ** 2)"
      ]
    },
    {
      "cell_type": "markdown",
      "metadata": {
        "id": "le08c0EGlkjJ"
      },
      "source": [
        "Note: The `/` operator always performs a floating point division in Python 3.x.\n",
        "This is not true in Python 2.x, where the result of `/` is always an integer if the operands are integers.\n",
        "to be more specific, `1/2 = 0.5` (`float`) in Python 3.x, and `1/2 = 0` (`int`) in Python 2.x (but `1.0/2 = 0.5` in Python 2.x)."
      ]
    },
    {
      "cell_type": "markdown",
      "metadata": {
        "id": "l9OYMqP-lkjJ"
      },
      "source": [
        "* The boolean operators are spelled out as the words `and`, `not`, `or`."
      ]
    },
    {
      "cell_type": "code",
      "execution_count": 16,
      "metadata": {
        "id": "_tgPEswQlkjK",
        "outputId": "a587dbf1-38bc-48b8-d975-a687f4aa86f9",
        "colab": {
          "base_uri": "https://localhost:8080/"
        }
      },
      "outputs": [
        {
          "output_type": "stream",
          "name": "stdout",
          "text": [
            "False\n"
          ]
        }
      ],
      "source": [
        "print  (True and False)"
      ]
    },
    {
      "cell_type": "code",
      "execution_count": 17,
      "metadata": {
        "id": "tgsn93-tlkjK",
        "outputId": "11c84ddc-7c64-4c81-aab4-4c5dcaf6a741",
        "colab": {
          "base_uri": "https://localhost:8080/"
        }
      },
      "outputs": [
        {
          "output_type": "stream",
          "name": "stdout",
          "text": [
            "True\n"
          ]
        }
      ],
      "source": [
        "print (not False)"
      ]
    },
    {
      "cell_type": "code",
      "execution_count": 18,
      "metadata": {
        "id": "dfsTAYw3lkjK",
        "outputId": "33087757-b8a9-489e-8df6-e25c081141d9",
        "colab": {
          "base_uri": "https://localhost:8080/"
        }
      },
      "outputs": [
        {
          "output_type": "stream",
          "name": "stdout",
          "text": [
            "True\n"
          ]
        }
      ],
      "source": [
        "print (True or False)"
      ]
    },
    {
      "cell_type": "markdown",
      "metadata": {
        "id": "FzLuCd7nlkjL"
      },
      "source": [
        "* Comparison operators `>`, `<`, `>=` (greater or equal), `<=` (less or equal), `==` equality, `is` identical."
      ]
    },
    {
      "cell_type": "code",
      "execution_count": 19,
      "metadata": {
        "id": "bia0UqnolkjL",
        "outputId": "17c5b6aa-8b1e-410f-d2ee-36151e0dfd40",
        "colab": {
          "base_uri": "https://localhost:8080/"
        }
      },
      "outputs": [
        {
          "output_type": "stream",
          "name": "stdout",
          "text": [
            "True False\n"
          ]
        }
      ],
      "source": [
        "print  (2 > 1, 2 < 1)"
      ]
    },
    {
      "cell_type": "code",
      "execution_count": 20,
      "metadata": {
        "id": "8Hryf9zZlkjL",
        "outputId": "82bb66ec-38cc-4606-9502-4ba470b2c0da",
        "colab": {
          "base_uri": "https://localhost:8080/"
        }
      },
      "outputs": [
        {
          "output_type": "stream",
          "name": "stdout",
          "text": [
            "False False\n"
          ]
        }
      ],
      "source": [
        "print  (2 > 2, 2 < 2)"
      ]
    },
    {
      "cell_type": "code",
      "execution_count": 21,
      "metadata": {
        "id": "iEwcvzgPlkjL",
        "outputId": "c767273f-8eca-42b3-90a3-e00019e7e964",
        "colab": {
          "base_uri": "https://localhost:8080/"
        }
      },
      "outputs": [
        {
          "output_type": "stream",
          "name": "stdout",
          "text": [
            "True True\n"
          ]
        }
      ],
      "source": [
        "print (2 >= 2, 2 <= 2)"
      ]
    },
    {
      "cell_type": "code",
      "execution_count": 23,
      "metadata": {
        "id": "3j2RzlFqlkjM",
        "outputId": "b0320897-8d2c-421f-e9e0-bb8516019232",
        "colab": {
          "base_uri": "https://localhost:8080/"
        }
      },
      "outputs": [
        {
          "output_type": "stream",
          "name": "stdout",
          "text": [
            "True\n"
          ]
        }
      ],
      "source": [
        "# equality\n",
        "print ([1,2] == [1,2])"
      ]
    },
    {
      "cell_type": "code",
      "execution_count": 24,
      "metadata": {
        "id": "Lz1EEX6RlkjM",
        "outputId": "b0a3171b-d290-4471-b02a-1d1375d3ac42",
        "colab": {
          "base_uri": "https://localhost:8080/"
        }
      },
      "outputs": [
        {
          "output_type": "stream",
          "name": "stdout",
          "text": [
            "True\n"
          ]
        }
      ],
      "source": [
        "# objects identical?\n",
        "l1 = l2 = [1,2]\n",
        "\n",
        "print ( l1 is l2)"
      ]
    },
    {
      "cell_type": "markdown",
      "metadata": {
        "id": "H9OLq4CwlkjM"
      },
      "source": [
        "## Compound types: Strings, List and dictionaries"
      ]
    },
    {
      "cell_type": "markdown",
      "metadata": {
        "id": "0yZNnu56lkjM"
      },
      "source": [
        "### Strings"
      ]
    },
    {
      "cell_type": "markdown",
      "metadata": {
        "id": "xIYaNGDtlkjN"
      },
      "source": [
        "Strings are the variable type that is used for storing text messages."
      ]
    },
    {
      "cell_type": "code",
      "execution_count": null,
      "metadata": {
        "id": "MWgnRLr7lkjN",
        "outputId": "4d7087b5-a220-4699-83e2-6a2b7405d70d"
      },
      "outputs": [
        {
          "name": "stdout",
          "output_type": "stream",
          "text": [
            "<type 'str'>\n"
          ]
        }
      ],
      "source": [
        "s = \"Hello world\"\n",
        "print type(s)"
      ]
    },
    {
      "cell_type": "code",
      "execution_count": null,
      "metadata": {
        "id": "Y-VUqvjPlkjN",
        "outputId": "8b3bbf7c-c9af-49eb-ef7d-de2e84ec7f03"
      },
      "outputs": [
        {
          "name": "stdout",
          "output_type": "stream",
          "text": [
            "11\n"
          ]
        }
      ],
      "source": [
        "# length of the string: the number of characters\n",
        "print len(s)"
      ]
    },
    {
      "cell_type": "code",
      "execution_count": null,
      "metadata": {
        "id": "P-CRqJ8zlkjO",
        "outputId": "ffdd35e1-0408-4b29-ba90-a2c65de1ed4c"
      },
      "outputs": [
        {
          "name": "stdout",
          "output_type": "stream",
          "text": [
            "Hello test\n"
          ]
        }
      ],
      "source": [
        "# replace a substring in a string with somethign else\n",
        "s2 = s.replace(\"world\", \"test\")\n",
        "print s2"
      ]
    },
    {
      "cell_type": "markdown",
      "metadata": {
        "id": "kGBipxfllkjO"
      },
      "source": [
        "We can index a character in a string using `[]`:"
      ]
    },
    {
      "cell_type": "code",
      "execution_count": null,
      "metadata": {
        "id": "6RPw8F14lkjO"
      },
      "outputs": [],
      "source": [
        "print s[0]"
      ]
    },
    {
      "cell_type": "markdown",
      "metadata": {
        "id": "hxqqQhwulkjP"
      },
      "source": [
        "**Heads up MATLAB users:** Indexing start at 0!\n",
        "\n",
        "We can extract a part of a string using the syntax `[start:stop]`, which extracts characters between index `start` and `stop` -1 (the character at index `stop` is not included):"
      ]
    },
    {
      "cell_type": "code",
      "execution_count": null,
      "metadata": {
        "id": "FPjHpL6ClkjP",
        "outputId": "66dc90b7-64fb-4c17-d079-8a56ef33d838"
      },
      "outputs": [
        {
          "name": "stdout",
          "output_type": "stream",
          "text": [
            "Hello\n"
          ]
        }
      ],
      "source": [
        "print s[0:5]"
      ]
    },
    {
      "cell_type": "code",
      "execution_count": null,
      "metadata": {
        "id": "m3MQtis7lkjP",
        "outputId": "99397f64-5ff2-4231-8e3a-e1c1146bfde4"
      },
      "outputs": [
        {
          "name": "stdout",
          "output_type": "stream",
          "text": [
            "o\n"
          ]
        }
      ],
      "source": [
        "print s[4:5]"
      ]
    },
    {
      "cell_type": "markdown",
      "metadata": {
        "id": "vwODDSGKlkjQ"
      },
      "source": [
        "If we omit either (or both) of `start` or `stop` from `[start:stop]`, the default is the beginning and the end of the string, respectively:"
      ]
    },
    {
      "cell_type": "code",
      "execution_count": null,
      "metadata": {
        "id": "w-Nq_rV7lkjQ",
        "outputId": "78ecda6f-f809-433c-83c9-5ec6f21d6b2e"
      },
      "outputs": [
        {
          "name": "stdout",
          "output_type": "stream",
          "text": [
            "Hello\n"
          ]
        }
      ],
      "source": [
        "print s[:5]"
      ]
    },
    {
      "cell_type": "code",
      "execution_count": null,
      "metadata": {
        "id": "BcjOUX41lkjQ",
        "outputId": "a7174281-5c4a-4819-b4c7-73c34ef2eaa7"
      },
      "outputs": [
        {
          "name": "stdout",
          "output_type": "stream",
          "text": [
            "world\n"
          ]
        }
      ],
      "source": [
        "print s[6:]"
      ]
    },
    {
      "cell_type": "code",
      "execution_count": null,
      "metadata": {
        "id": "fx2v1hQslkjQ",
        "outputId": "7f052459-319e-4471-e29e-f9a68e9a42dd"
      },
      "outputs": [
        {
          "name": "stdout",
          "output_type": "stream",
          "text": [
            "Hello world\n"
          ]
        }
      ],
      "source": [
        "print  s[:]"
      ]
    },
    {
      "cell_type": "markdown",
      "metadata": {
        "id": "EtRMbc39lkjR"
      },
      "source": [
        "We can also define the step size using the syntax `[start:end:step]` (the default value for `step` is 1, as we saw above):"
      ]
    },
    {
      "cell_type": "code",
      "execution_count": null,
      "metadata": {
        "id": "bo3I0FZqlkjR",
        "outputId": "515e484c-3c7e-49f6-b8fd-0cddb7214734"
      },
      "outputs": [
        {
          "name": "stdout",
          "output_type": "stream",
          "text": [
            "Hello world\n"
          ]
        }
      ],
      "source": [
        "print s[::1]"
      ]
    },
    {
      "cell_type": "code",
      "execution_count": null,
      "metadata": {
        "id": "yH3-X3P0lkjR",
        "outputId": "c86de837-38cd-4e69-8985-f743da41eba6"
      },
      "outputs": [
        {
          "name": "stdout",
          "output_type": "stream",
          "text": [
            "He\n"
          ]
        }
      ],
      "source": [
        "print s[:2:1]"
      ]
    },
    {
      "cell_type": "markdown",
      "metadata": {
        "id": "cP2o6yKMlkjS"
      },
      "source": [
        "This technique is called *slicing*. Read more about the syntax here: http://docs.python.org/release/2.7.3/library/functions.html?highlight=slice#slice"
      ]
    },
    {
      "cell_type": "markdown",
      "metadata": {
        "id": "0s94sl1NlkjS"
      },
      "source": [
        "Python has a very rich set of functions for text processing. See for example http://docs.python.org/2/library/string.html for more information."
      ]
    },
    {
      "cell_type": "markdown",
      "metadata": {
        "id": "GfNTcOCVlkjS"
      },
      "source": [
        "#### String formatting examples"
      ]
    },
    {
      "cell_type": "code",
      "execution_count": null,
      "metadata": {
        "id": "ehTPMqUDlkjS",
        "outputId": "ec5aa5a1-f91c-4e78-ac4d-3f6b973c2de4"
      },
      "outputs": [
        {
          "name": "stdout",
          "output_type": "stream",
          "text": [
            "str1 str2 str3\n"
          ]
        }
      ],
      "source": [
        "print \"str1\", \"str2\", \"str3\"  # The print statement concatenates strings with a space"
      ]
    },
    {
      "cell_type": "code",
      "execution_count": null,
      "metadata": {
        "id": "nUjubIUmlkjT",
        "outputId": "e4b59625-3a69-4a39-c37a-e40cf4beed85"
      },
      "outputs": [
        {
          "name": "stdout",
          "output_type": "stream",
          "text": [
            "str1 1.0 False -1j\n"
          ]
        }
      ],
      "source": [
        "print \"str1\", 1.0, False, -1j  # The print statements converts all arguments to strings"
      ]
    },
    {
      "cell_type": "code",
      "execution_count": null,
      "metadata": {
        "id": "YzzBlFLGlkjT",
        "outputId": "b04727df-8489-4ddb-a236-20d8b5066256"
      },
      "outputs": [
        {
          "name": "stdout",
          "output_type": "stream",
          "text": [
            "str1str2str3\n"
          ]
        }
      ],
      "source": [
        "print \"str1\" + \"str2\" + \"str3\" # strings added with + are concatenated without space"
      ]
    },
    {
      "cell_type": "code",
      "execution_count": null,
      "metadata": {
        "id": "E0yMXjbslkjU"
      },
      "outputs": [],
      "source": [
        "print \"value = %f\" % 1.0       # we can use C-style string formatting"
      ]
    },
    {
      "cell_type": "code",
      "execution_count": null,
      "metadata": {
        "id": "aaSRxPzjlkjU",
        "outputId": "dd4abbcc-29aa-4efb-acf4-fb3812052f55"
      },
      "outputs": [
        {
          "name": "stdout",
          "output_type": "stream",
          "text": [
            "value1 = 3.14. value2 = 1\n"
          ]
        }
      ],
      "source": [
        "# this formatting creates a string\n",
        "s2 = \"value1 = %.2f. value2 = %d\" % (3.1415, 1.5)\n",
        "\n",
        "print s2"
      ]
    },
    {
      "cell_type": "code",
      "execution_count": null,
      "metadata": {
        "id": "dkqOYjqKlkjV",
        "outputId": "71322527-f11c-4062-cfc7-95c74d73c26b"
      },
      "outputs": [
        {
          "name": "stdout",
          "output_type": "stream",
          "text": [
            "value1 = 3.1415, value2 = 1.5\n"
          ]
        }
      ],
      "source": [
        "# alternative, more intuitive way of formatting a string\n",
        "s3 = 'value1 = {0}, value2 = {1}'.format(3.1415, 1.5)\n",
        "\n",
        "print s3"
      ]
    },
    {
      "cell_type": "markdown",
      "metadata": {
        "id": "fKvhf-OhlkjV"
      },
      "source": [
        "### List"
      ]
    },
    {
      "cell_type": "markdown",
      "metadata": {
        "id": "lZ5qeHlmlkjW"
      },
      "source": [
        "Lists are very similar to strings, except that each element can be of any type.\n",
        "\n",
        "The syntax for creating lists in Python is `[...]`:"
      ]
    },
    {
      "cell_type": "code",
      "execution_count": null,
      "metadata": {
        "id": "3cmYjH28lkjW",
        "outputId": "fc86c323-584b-41c9-b224-e2a387a3a159"
      },
      "outputs": [
        {
          "name": "stdout",
          "output_type": "stream",
          "text": [
            "<type 'list'>\n",
            "[1, 2, 3, 4]\n"
          ]
        }
      ],
      "source": [
        "l = [1,2,3,4]\n",
        "print type(l)\n",
        "print l"
      ]
    },
    {
      "cell_type": "markdown",
      "metadata": {
        "id": "E-fb90m3lkjW"
      },
      "source": [
        "We can use the same slicing techniques to manipulate lists as we could use on strings:"
      ]
    },
    {
      "cell_type": "code",
      "execution_count": null,
      "metadata": {
        "id": "ace68ZVKlkjW",
        "outputId": "23f0e00d-6de9-4355-f9c7-7bbb2adca182"
      },
      "outputs": [
        {
          "name": "stdout",
          "output_type": "stream",
          "text": [
            "[1, 2, 3, 4]\n",
            "[2, 3]\n",
            "[1, 3]\n"
          ]
        }
      ],
      "source": [
        "print l\n",
        "\n",
        "print l[1:3]\n",
        "\n",
        "print l[::2]"
      ]
    },
    {
      "cell_type": "markdown",
      "metadata": {
        "id": "c2XNyH-ElkjX"
      },
      "source": [
        "**Heads up MATLAB users:** Indexing starts at 0!"
      ]
    },
    {
      "cell_type": "code",
      "execution_count": null,
      "metadata": {
        "id": "_XD4_1aVlkjX",
        "outputId": "1221c4bb-d4dc-4794-a44d-7e7cdd0ad7ff"
      },
      "outputs": [
        {
          "name": "stdout",
          "output_type": "stream",
          "text": [
            "1\n"
          ]
        }
      ],
      "source": [
        "print l[0]"
      ]
    },
    {
      "cell_type": "markdown",
      "metadata": {
        "id": "Sp103Xn-lkjX"
      },
      "source": [
        "Elements in a list do not all have to be of the same type:"
      ]
    },
    {
      "cell_type": "code",
      "execution_count": null,
      "metadata": {
        "id": "naq6sp2ElkjX",
        "outputId": "e218d657-e8dd-4129-b463-e55d268ac6cc"
      },
      "outputs": [
        {
          "name": "stdout",
          "output_type": "stream",
          "text": [
            "[1, 'a', 1.0, (1-1j)]\n"
          ]
        }
      ],
      "source": [
        "l = [1, 'a', 1.0, 1-1j]\n",
        "\n",
        "print l"
      ]
    },
    {
      "cell_type": "markdown",
      "metadata": {
        "id": "yEXJzSTQlkjY"
      },
      "source": [
        "Python lists can be inhomogeneous and arbitrarily nested:"
      ]
    },
    {
      "cell_type": "code",
      "execution_count": null,
      "metadata": {
        "id": "OuyQz_RAlkjY",
        "outputId": "30308ff0-70b3-4d47-d2d7-fdb299b1f401"
      },
      "outputs": [
        {
          "name": "stdout",
          "output_type": "stream",
          "text": [
            "[1, [2, [3, [4, [5]]]]]\n"
          ]
        }
      ],
      "source": [
        "nested_list = [1, [2, [3, [4, [5]]]]]\n",
        "\n",
        "print nested_list"
      ]
    },
    {
      "cell_type": "markdown",
      "metadata": {
        "id": "yKTGHv-QlkjZ"
      },
      "source": [
        "Lists play a very important role in Python. For example they are used in loops and other flow control structures (discussed below). There are a number of convenient functions for generating lists of various types, for example the `range` function:"
      ]
    },
    {
      "cell_type": "code",
      "execution_count": null,
      "metadata": {
        "id": "2vDtUUEZlkjZ",
        "outputId": "a8893e66-4d64-41fc-dde1-3d6e920e2b64"
      },
      "outputs": [
        {
          "name": "stdout",
          "output_type": "stream",
          "text": [
            "[10, 12, 14, 16, 18, 20, 22, 24, 26, 28]\n"
          ]
        }
      ],
      "source": [
        "start = 10\n",
        "stop = 30\n",
        "step = 2\n",
        "\n",
        "print range(start, stop, step)"
      ]
    },
    {
      "cell_type": "code",
      "execution_count": null,
      "metadata": {
        "id": "hIFZGvgMlkje",
        "outputId": "987cdcc2-cd73-4327-807a-b75a2123986a"
      },
      "outputs": [
        {
          "name": "stdout",
          "output_type": "stream",
          "text": [
            "[10, 12, 14, 16, 18, 20, 22, 24, 26, 28]\n"
          ]
        }
      ],
      "source": [
        "# in python 3 range generates an interator, which can be converted to a list using 'list(...)'.\n",
        "# It has no effect in python 2\n",
        "print list(range(start, stop, step))"
      ]
    },
    {
      "cell_type": "code",
      "execution_count": null,
      "metadata": {
        "id": "_AMQ755blkjf",
        "outputId": "99baad96-2399-4b40-8dc8-de5296ba22cd"
      },
      "outputs": [
        {
          "name": "stdout",
          "output_type": "stream",
          "text": [
            "[-10, -9, -8, -7, -6, -5, -4, -3, -2, -1, 0, 1, 2, 3, 4, 5, 6, 7, 8, 9]\n"
          ]
        }
      ],
      "source": [
        "print list(range(-10, 10))"
      ]
    },
    {
      "cell_type": "code",
      "execution_count": null,
      "metadata": {
        "id": "v5-l_cHclkjf",
        "outputId": "669e1170-3642-439a-dc1c-24070c2073a9"
      },
      "outputs": [
        {
          "name": "stdout",
          "output_type": "stream",
          "text": [
            "Hello world\n"
          ]
        }
      ],
      "source": [
        "print s"
      ]
    },
    {
      "cell_type": "code",
      "execution_count": null,
      "metadata": {
        "id": "7vn4lbb8lkjf",
        "outputId": "bbe17c2b-6bd4-4f5b-ab6d-48c25a569ba6"
      },
      "outputs": [
        {
          "name": "stdout",
          "output_type": "stream",
          "text": [
            "['H', 'e', 'l', 'l', 'o', ' ', 'w', 'o', 'r', 'l', 'd']\n"
          ]
        }
      ],
      "source": [
        "# convert a string to a list by type casting:\n",
        "s2 = list(s)\n",
        "\n",
        "print s2"
      ]
    },
    {
      "cell_type": "code",
      "execution_count": null,
      "metadata": {
        "id": "0HGyCJqulkjg",
        "outputId": "15e79e72-8369-4345-e7e6-39e5e24c1f91"
      },
      "outputs": [
        {
          "name": "stdout",
          "output_type": "stream",
          "text": [
            "[' ', 'H', 'd', 'e', 'l', 'l', 'l', 'o', 'o', 'r', 'w']\n"
          ]
        }
      ],
      "source": [
        "# sorting lists\n",
        "s2.sort()\n",
        "\n",
        "print s2"
      ]
    },
    {
      "cell_type": "markdown",
      "metadata": {
        "id": "zqpd4MQXlkjg"
      },
      "source": [
        "#### Adding, inserting, modifying, and removing elements from lists"
      ]
    },
    {
      "cell_type": "code",
      "execution_count": null,
      "metadata": {
        "id": "7J-HSH_Ulkjg",
        "outputId": "ebaddb7f-89f2-4de9-b5a9-0b490d9a1184"
      },
      "outputs": [
        {
          "name": "stdout",
          "output_type": "stream",
          "text": [
            "['A', 'd', 'd']\n"
          ]
        }
      ],
      "source": [
        "# create a new empty list\n",
        "l = []\n",
        "\n",
        "# add an elements using `append`\n",
        "l.append(\"A\")\n",
        "l.append(\"d\")\n",
        "l.append(\"d\")\n",
        "\n",
        "print l"
      ]
    },
    {
      "cell_type": "markdown",
      "metadata": {
        "id": "Kx2TgEwOlkjg"
      },
      "source": [
        "We can modify lists by assigning new values to elements in the list. In technical jargon, lists are *mutable*."
      ]
    },
    {
      "cell_type": "code",
      "execution_count": null,
      "metadata": {
        "id": "ZKMZiZU-lkjh",
        "outputId": "e3d449dd-2c74-44d2-9703-53d8ae90e113"
      },
      "outputs": [
        {
          "name": "stdout",
          "output_type": "stream",
          "text": [
            "['A', 'p', 'p']\n"
          ]
        }
      ],
      "source": [
        "l[1] = \"p\"\n",
        "l[2] = \"p\"\n",
        "\n",
        "print l"
      ]
    },
    {
      "cell_type": "code",
      "execution_count": null,
      "metadata": {
        "id": "vi4vj7UUlkjh",
        "outputId": "8d719863-34b4-4693-9a48-bff4260aa3fe"
      },
      "outputs": [
        {
          "name": "stdout",
          "output_type": "stream",
          "text": [
            "['A', 'd', 'd']\n"
          ]
        }
      ],
      "source": [
        "l[1:3] = [\"d\", \"d\"]\n",
        "\n",
        "print l"
      ]
    },
    {
      "cell_type": "markdown",
      "metadata": {
        "id": "YDWz7LgWlkjh"
      },
      "source": [
        "Insert an element at an specific index using `insert`"
      ]
    },
    {
      "cell_type": "code",
      "execution_count": null,
      "metadata": {
        "id": "06qxry7Llkji",
        "outputId": "a279c75a-17e6-4c04-c162-feea499bde5f"
      },
      "outputs": [
        {
          "name": "stdout",
          "output_type": "stream",
          "text": [
            "['i', 'n', 's', 'e', 'r', 't', 'A', 'd', 'd']\n"
          ]
        }
      ],
      "source": [
        "l.insert(0, \"i\")\n",
        "l.insert(1, \"n\")\n",
        "l.insert(2, \"s\")\n",
        "l.insert(3, \"e\")\n",
        "l.insert(4, \"r\")\n",
        "l.insert(5, \"t\")\n",
        "\n",
        "print l"
      ]
    },
    {
      "cell_type": "markdown",
      "metadata": {
        "id": "_Dr7b-i9lkji"
      },
      "source": [
        "Remove first element with specific value using 'remove'"
      ]
    },
    {
      "cell_type": "code",
      "execution_count": null,
      "metadata": {
        "id": "yJzz5QbKlkji",
        "outputId": "83d4f115-90a3-4946-9bd1-10bfb20cb41f"
      },
      "outputs": [
        {
          "name": "stdout",
          "output_type": "stream",
          "text": [
            "['i', 'n', 's', 'e', 'r', 't', 'd', 'd']\n"
          ]
        }
      ],
      "source": [
        "l.remove(\"A\")\n",
        "\n",
        "print l"
      ]
    },
    {
      "cell_type": "markdown",
      "metadata": {
        "id": "wu8FNThUlkji"
      },
      "source": [
        "Remove an element at a specific location using `del`:"
      ]
    },
    {
      "cell_type": "code",
      "execution_count": null,
      "metadata": {
        "id": "oZRrRpVLlkjj",
        "outputId": "cbbe0384-c27b-44e9-ce44-a2a9ce5f4b14"
      },
      "outputs": [
        {
          "name": "stdout",
          "output_type": "stream",
          "text": [
            "['i', 'n', 's', 'e', 'r', 't']\n"
          ]
        }
      ],
      "source": [
        "del l[7]\n",
        "del l[6]\n",
        "\n",
        "print l"
      ]
    },
    {
      "cell_type": "markdown",
      "metadata": {
        "id": "1yuoIrj4lkjj"
      },
      "source": [
        "See `help(list)` for more details, or read the online documentation"
      ]
    },
    {
      "cell_type": "markdown",
      "metadata": {
        "id": "nvEZ8nJnlkjj"
      },
      "source": [
        "### Tuples"
      ]
    },
    {
      "cell_type": "markdown",
      "metadata": {
        "id": "2cDjoJ-Vlkjj"
      },
      "source": [
        "Tuples are like lists, except that they cannot be modified once created, that is they are *immutable*.\n",
        "\n",
        "In Python, tuples are created using the syntax `(..., ..., ...)`, or even `..., ...`:"
      ]
    },
    {
      "cell_type": "code",
      "execution_count": null,
      "metadata": {
        "id": "qgrS3Ndhlkjj",
        "outputId": "8c4f4100-a5a1-4641-cc2d-a5952032b034"
      },
      "outputs": [
        {
          "name": "stdout",
          "output_type": "stream",
          "text": [
            "(10, 20) <type 'tuple'>\n"
          ]
        }
      ],
      "source": [
        "point = (10, 20)\n",
        "\n",
        "print point, type(point)"
      ]
    },
    {
      "cell_type": "code",
      "execution_count": null,
      "metadata": {
        "id": "yUieMW0_lkjk",
        "outputId": "cb3983ff-ed00-44d8-c9b0-8caa59b0d7de"
      },
      "outputs": [
        {
          "name": "stdout",
          "output_type": "stream",
          "text": [
            "(10, 20) <type 'tuple'>\n"
          ]
        }
      ],
      "source": [
        "point = 10, 20\n",
        "\n",
        "print point, type(point)"
      ]
    },
    {
      "cell_type": "markdown",
      "metadata": {
        "id": "QKgYiz80lkjk"
      },
      "source": [
        "We can unpack a tuple by assigning it to a comma-separated list of variables:"
      ]
    },
    {
      "cell_type": "code",
      "execution_count": null,
      "metadata": {
        "id": "BZjFva_Rlkjk",
        "outputId": "0720ac5d-7c0f-4822-8f11-061a47962c05"
      },
      "outputs": [
        {
          "name": "stdout",
          "output_type": "stream",
          "text": [
            "x = 10\n",
            "y = 20\n"
          ]
        }
      ],
      "source": [
        "x, y = point\n",
        "\n",
        "print \"x =\", x\n",
        "print \"y =\", y"
      ]
    },
    {
      "cell_type": "markdown",
      "metadata": {
        "id": "hbDWtslVlkjk"
      },
      "source": [
        "If we try to assign a new value to an element in a tuple we get an error:"
      ]
    },
    {
      "cell_type": "markdown",
      "metadata": {
        "id": "rZplnZVMlkjl"
      },
      "source": [
        "### Dictionaries"
      ]
    },
    {
      "cell_type": "markdown",
      "metadata": {
        "id": "p7JppckMlkjl"
      },
      "source": [
        "Dictionaries are also like lists, except that each element is a key-value pair. The syntax for dictionaries is `{key1 : value1, ...}`:"
      ]
    },
    {
      "cell_type": "code",
      "execution_count": null,
      "metadata": {
        "id": "u1niFUWZlkjl",
        "outputId": "19710452-e7c0-4d54-ffad-2c6d953560d6"
      },
      "outputs": [
        {
          "name": "stdout",
          "output_type": "stream",
          "text": [
            "<type 'dict'>\n",
            "{'parameter1': 1.0, 'parameter3': 3.0, 'parameter2': 2.0}\n"
          ]
        }
      ],
      "source": [
        "params = {\"parameter1\" : 1.0,\n",
        "          \"parameter2\" : 2.0,\n",
        "          \"parameter3\" : 3.0,}\n",
        "\n",
        "print type(params)\n",
        "print params"
      ]
    },
    {
      "cell_type": "markdown",
      "metadata": {
        "id": "G2fYfy7elkjl"
      },
      "source": [
        "We can access the values using keys"
      ]
    },
    {
      "cell_type": "code",
      "execution_count": null,
      "metadata": {
        "id": "e1rcOY2Vlkjm",
        "outputId": "578fc82e-a1c3-429b-eefe-4b953e77e75e"
      },
      "outputs": [
        {
          "name": "stdout",
          "output_type": "stream",
          "text": [
            "parameter1 =  1.0\n",
            "parameter2 =  2.0\n",
            "parameter3 =  3.0\n"
          ]
        }
      ],
      "source": [
        "print \"parameter1 = \" , params[\"parameter1\"]\n",
        "print \"parameter2 = \" , params[\"parameter2\"]\n",
        "print \"parameter3 = \" , params[\"parameter3\"]"
      ]
    },
    {
      "cell_type": "code",
      "execution_count": null,
      "metadata": {
        "id": "9pXxBdzklkjm",
        "outputId": "89bccea8-1b2c-4d0b-c44e-eed62e6aa6bc"
      },
      "outputs": [
        {
          "name": "stdout",
          "output_type": "stream",
          "text": [
            "parameter1 =  A\n",
            "parameter2 =  B\n",
            "parameter3 =  3.0\n",
            "parameter4 =  D\n"
          ]
        }
      ],
      "source": [
        "params[\"parameter1\"] = \"A\"\n",
        "params[\"parameter2\"] = \"B\"\n",
        "\n",
        "# add a new entry\n",
        "params[\"parameter4\"] = \"D\"\n",
        "\n",
        "print \"parameter1 = \",  params[\"parameter1\"]\n",
        "print \"parameter2 = \",  params[\"parameter2\"]\n",
        "print \"parameter3 = \",  params[\"parameter3\"]\n",
        "print \"parameter4 = \",  params[\"parameter4\"]"
      ]
    },
    {
      "cell_type": "markdown",
      "metadata": {
        "id": "4Tp73SQzlkjm"
      },
      "source": [
        "If the key dost not exists, it will through an exception"
      ]
    },
    {
      "cell_type": "code",
      "execution_count": null,
      "metadata": {
        "id": "wEprOr6Glkjm"
      },
      "outputs": [],
      "source": [
        "print \"parameter5 = \",  params[\"parameter5\"]"
      ]
    },
    {
      "cell_type": "markdown",
      "metadata": {
        "id": "I2pB1NYVlkjn"
      },
      "source": [
        "### Default Dictionary\n",
        "\n",
        "A defaultdict works exactly like a normal dict, but it is initialized with a function (“default factory”) that takes no arguments and provides the default value for a nonexistent key.\n",
        "\n",
        "A defaultdict will never raise a KeyError. Any key that does not exist gets the value returned by the default factory. For example consider the following example with the default value as 'Vanilla'.\n",
        "\n",
        "**Note : ** Since default dictionary takes a function as argument, be sure to pass the function object to defaultdict(). Do not call the function.\n",
        "    - Correct   :  defaultdict(func)\n",
        "    - Incorrect :  defaultdict(func())."
      ]
    },
    {
      "cell_type": "code",
      "execution_count": null,
      "metadata": {
        "id": "ER_JleqNlkjn",
        "outputId": "5a4f476b-54bf-4647-edad-e680e8833a63"
      },
      "outputs": [
        {
          "name": "stdout",
          "output_type": "stream",
          "text": [
            "Chunky Monkey\n",
            "Vanilla\n"
          ]
        }
      ],
      "source": [
        "from collections import defaultdict\n",
        "# A function providing default values\n",
        "def values():\n",
        "    return 'Vanilla'\n",
        "\n",
        "# Making an object of the default diictionary with the function defined ablove\n",
        "ice_cream = defaultdict(values)\n",
        "\n",
        "# assigning values with keys\n",
        "ice_cream['Sarah'] = 'Chunky Monkey'\n",
        "ice_cream['Abdul'] = 'Butter Pecan'\n",
        "\n",
        "# accessing the value of a key that exists\n",
        "print ice_cream['Sarah']\n",
        "\n",
        "# accessing the value of a key that do not exists, will print default value\n",
        "print ice_cream['Joe']"
      ]
    },
    {
      "cell_type": "markdown",
      "metadata": {
        "id": "usZqvtKmlkjn"
      },
      "source": [
        "## Control Flow"
      ]
    },
    {
      "cell_type": "markdown",
      "metadata": {
        "id": "pp_gqAwHlkjo"
      },
      "source": [
        "### Conditional statements: if, elif, else"
      ]
    },
    {
      "cell_type": "markdown",
      "metadata": {
        "id": "L4s7x2gElkjo"
      },
      "source": [
        "The Python syntax for conditional execution of code uses the keywords `if`, `elif` (else if), `else`:"
      ]
    },
    {
      "cell_type": "code",
      "execution_count": null,
      "metadata": {
        "id": "4dNYrzNBlkjo",
        "outputId": "9b1a8c4b-010e-4fa5-dc59-f117e5571744"
      },
      "outputs": [
        {
          "name": "stdout",
          "output_type": "stream",
          "text": [
            "statement1 and statement2 are False\n"
          ]
        }
      ],
      "source": [
        "statement1 = False\n",
        "statement2 = False\n",
        "\n",
        "if statement1:\n",
        "    print \"statement1 is True\"\n",
        "\n",
        "elif statement2:\n",
        "    print \"statement2 is True\"\n",
        "\n",
        "else:\n",
        "    print \"statement1 and statement2 are False\""
      ]
    },
    {
      "cell_type": "markdown",
      "metadata": {
        "id": "ZODEjOCHlkjp"
      },
      "source": [
        "For the first time, here we encounted a peculiar and unusual aspect of the Python programming language: Program blocks are defined by their indentation level.\n",
        "\n",
        "Compare to the equivalent C code:\n",
        "``` c\n",
        "if (statement1)\n",
        "{\n",
        "    printf(\"statement1 is True\\n\");\n",
        "}\n",
        "else if (statement2)\n",
        "{\n",
        "    printf(\"statement2 is True\\n\");\n",
        "}\n",
        "else\n",
        "{\n",
        "    printf(\"statement1 and statement2 are False\\n\");\n",
        "}\n",
        "```\n",
        "In C blocks are defined by the enclosing curly brakets `{` and `}`. And the level of indentation (white space before the code statements) does not matter (completely optional).\n",
        "\n",
        "But in Python, the extent of a code block is defined by the indentation level (usually a tab or say four white spaces). This means that we have to be careful to indent our code correctly, or else we will get syntax errors."
      ]
    },
    {
      "cell_type": "markdown",
      "metadata": {
        "id": "gAijAvgBlkjp"
      },
      "source": [
        "#### Examples:"
      ]
    },
    {
      "cell_type": "code",
      "execution_count": null,
      "metadata": {
        "id": "GaPdJR4klkjp",
        "outputId": "c6fbc2d3-b6dc-460c-f358-586d7b0a0213"
      },
      "outputs": [
        {
          "name": "stdout",
          "output_type": "stream",
          "text": [
            "both statement1 and statement2 are True\n"
          ]
        }
      ],
      "source": [
        "statement1 = statement2 = True\n",
        "\n",
        "if statement1:\n",
        "    if statement2:\n",
        "        print \"both statement1 and statement2 are True\""
      ]
    },
    {
      "cell_type": "code",
      "execution_count": null,
      "metadata": {
        "id": "78IELyPclkjq"
      },
      "outputs": [],
      "source": [
        "statement1 = False\n",
        "\n",
        "if statement1:\n",
        "    print \"printed if statement1 is True\"\n",
        "\n",
        "    print \"still inside the if block\""
      ]
    },
    {
      "cell_type": "code",
      "execution_count": null,
      "metadata": {
        "id": "_lzG6lG1lkjr"
      },
      "outputs": [],
      "source": [
        "if statement1:\n",
        "    print \"printed if statement1 is True\"\n",
        "\n",
        "print \"now outside the if block\""
      ]
    },
    {
      "cell_type": "markdown",
      "metadata": {
        "id": "HMYznasSlkjr"
      },
      "source": [
        "## Loops"
      ]
    },
    {
      "cell_type": "markdown",
      "metadata": {
        "id": "ANDyedSalkjr"
      },
      "source": [
        "In Python, loops can be programmed in a number of different ways. The most common is the `for` loop, which is used together with iterable objects, such as lists. The basic syntax is:"
      ]
    },
    {
      "cell_type": "markdown",
      "metadata": {
        "id": "KwpciOfBlkjs"
      },
      "source": [
        "### **`for` loops**:"
      ]
    },
    {
      "cell_type": "code",
      "execution_count": null,
      "metadata": {
        "id": "lUMjrXEflkjs",
        "outputId": "6991b8f7-5bcb-48a0-8832-0449e395364a"
      },
      "outputs": [
        {
          "name": "stdout",
          "output_type": "stream",
          "text": [
            "1\n",
            "2\n",
            "3\n"
          ]
        }
      ],
      "source": [
        "for x in [1,2,3]:\n",
        "    print x"
      ]
    },
    {
      "cell_type": "markdown",
      "metadata": {
        "id": "asuktuaElkjs"
      },
      "source": [
        "The `for` loop iterates over the elements of the supplied list, and executes the containing block once for each element. Any kind of list can be used in the `for` loop. For example:"
      ]
    },
    {
      "cell_type": "code",
      "execution_count": null,
      "metadata": {
        "id": "rMaERPlylkjt",
        "outputId": "9840b612-b734-46dc-e7c2-5333aef8c46c"
      },
      "outputs": [
        {
          "name": "stdout",
          "output_type": "stream",
          "text": [
            "0\n",
            "1\n",
            "2\n",
            "3\n"
          ]
        }
      ],
      "source": [
        "for x in range(4): # by default range start at 0\n",
        "    print x"
      ]
    },
    {
      "cell_type": "markdown",
      "metadata": {
        "id": "44UymEMQlkjt"
      },
      "source": [
        "Note: `range(4)` does not include 4 !"
      ]
    },
    {
      "cell_type": "code",
      "execution_count": null,
      "metadata": {
        "id": "UsyYiZyflkjt",
        "outputId": "5755f8ae-df07-484c-b2aa-97ffe26065a4"
      },
      "outputs": [
        {
          "name": "stdout",
          "output_type": "stream",
          "text": [
            "-3\n",
            "-2\n",
            "-1\n",
            "0\n",
            "1\n",
            "2\n"
          ]
        }
      ],
      "source": [
        "for x in range(-3,3):\n",
        "    print x"
      ]
    },
    {
      "cell_type": "code",
      "execution_count": null,
      "metadata": {
        "id": "qVWc2sF0lkjt",
        "outputId": "8179ffc6-57a2-4781-b585-3ebb8d24424c"
      },
      "outputs": [
        {
          "name": "stdout",
          "output_type": "stream",
          "text": [
            "scientific\n",
            "computing\n",
            "with\n",
            "python\n"
          ]
        }
      ],
      "source": [
        "for word in [\"scientific\", \"computing\", \"with\", \"python\"]:\n",
        "    print word"
      ]
    },
    {
      "cell_type": "markdown",
      "metadata": {
        "id": "q4Mt9VCFlkju"
      },
      "source": [
        "To iterate over key-value pairs of a dictionary:"
      ]
    },
    {
      "cell_type": "code",
      "execution_count": null,
      "metadata": {
        "id": "C58rIPwPlkju",
        "outputId": "29db2576-e939-44c3-ab2c-0d237f5150b7"
      },
      "outputs": [
        {
          "name": "stdout",
          "output_type": "stream",
          "text": [
            "parameter4 = D\n",
            "parameter1 = A\n",
            "parameter3 = 3.0\n",
            "parameter2 = B\n"
          ]
        }
      ],
      "source": [
        "for key, value in params.items():\n",
        "    print key + \" = \" + str(value)"
      ]
    },
    {
      "cell_type": "markdown",
      "metadata": {
        "id": "mYOlTSj9lkjv"
      },
      "source": [
        "Sometimes it is useful to have access to the indices of the values when iterating over a list. We can use the `enumerate` function for this:"
      ]
    },
    {
      "cell_type": "code",
      "execution_count": null,
      "metadata": {
        "id": "bylDskJBlkjv",
        "outputId": "6e44e8d4-26e3-41ab-95e0-c12a2d8cc586"
      },
      "outputs": [
        {
          "name": "stdout",
          "output_type": "stream",
          "text": [
            "0 -3\n",
            "1 -2\n",
            "2 -1\n",
            "3 0\n",
            "4 1\n",
            "5 2\n"
          ]
        }
      ],
      "source": [
        "for idx, x in enumerate(range(-3,3)):\n",
        "    print idx, x"
      ]
    },
    {
      "cell_type": "markdown",
      "metadata": {
        "id": "1S6vE9nxlkjw"
      },
      "source": [
        "### List comprehensions: Creating lists using `for` loops:"
      ]
    },
    {
      "cell_type": "markdown",
      "metadata": {
        "id": "KAD-b9xllkjw"
      },
      "source": [
        "A convenient and compact way to initialize lists:"
      ]
    },
    {
      "cell_type": "code",
      "execution_count": null,
      "metadata": {
        "id": "9JFM1S-clkjw",
        "outputId": "b2afe42e-b03b-41ea-b09c-206936a45db6"
      },
      "outputs": [
        {
          "name": "stdout",
          "output_type": "stream",
          "text": [
            "[0, 1, 4, 9, 16]\n"
          ]
        }
      ],
      "source": [
        "l1 = [x**2 for x in range(0,5)]\n",
        "\n",
        "print l1"
      ]
    },
    {
      "cell_type": "markdown",
      "metadata": {
        "id": "wUbVvwVdlkjx"
      },
      "source": [
        "### `while` loops:"
      ]
    },
    {
      "cell_type": "code",
      "execution_count": null,
      "metadata": {
        "id": "XOe9qdkQlkjx",
        "outputId": "8f3e62db-5c8d-4c67-a527-afba403fe524"
      },
      "outputs": [
        {
          "name": "stdout",
          "output_type": "stream",
          "text": [
            "0\n",
            "1\n",
            "2\n",
            "3\n",
            "4\n",
            "done\n"
          ]
        }
      ],
      "source": [
        "i = 0\n",
        "\n",
        "while i < 5:\n",
        "    print(i)\n",
        "\n",
        "    i = i + 1\n",
        "\n",
        "print \"done\""
      ]
    },
    {
      "cell_type": "markdown",
      "metadata": {
        "id": "KUS7jZRllkjx"
      },
      "source": [
        "Note that the `print(\"done\")` statement is not part of the `while` loop body because of the difference in indentation."
      ]
    },
    {
      "cell_type": "markdown",
      "metadata": {
        "id": "T0e6ln4Olkjy"
      },
      "source": [
        "## Functions"
      ]
    },
    {
      "cell_type": "markdown",
      "metadata": {
        "id": "YIB9TS0Klkjy"
      },
      "source": [
        "A function in Python is defined using the keyword `def`, followed by a function name, a signature within parentheses `()`, and a colon `:`. The following code, with one additional level of indentation, is the function body."
      ]
    },
    {
      "cell_type": "code",
      "execution_count": null,
      "metadata": {
        "id": "Z0dtW1Jclkjy"
      },
      "outputs": [],
      "source": [
        "def func0():\n",
        "    print \"test\""
      ]
    },
    {
      "cell_type": "code",
      "execution_count": null,
      "metadata": {
        "id": "jN3XqSV1lkjy",
        "outputId": "2640b3de-9306-4fbf-8d93-3e63ec7fbe77"
      },
      "outputs": [
        {
          "name": "stdout",
          "output_type": "stream",
          "text": [
            "test\n"
          ]
        }
      ],
      "source": [
        "func0()"
      ]
    },
    {
      "cell_type": "markdown",
      "metadata": {
        "id": "sZBpuo0Mlkjy"
      },
      "source": [
        "Optionally, but highly recommended, we can define a so called \"docstring\", which is a description of the functions purpose and behaivor. The docstring should follow directly after the function definition, before the code in the function body."
      ]
    },
    {
      "cell_type": "code",
      "execution_count": null,
      "metadata": {
        "id": "vTjZkiF-lkjz"
      },
      "outputs": [],
      "source": [
        "def func1(s):\n",
        "    \"\"\"\n",
        "    Print a string 's' and tell how many characters it has\n",
        "    \"\"\"\n",
        "\n",
        "    print s + \" has \" + str(len(s)) + \" characters\""
      ]
    },
    {
      "cell_type": "code",
      "execution_count": null,
      "metadata": {
        "id": "BQhnmOSwlkjz",
        "outputId": "7b26019b-704d-41e2-8952-df79319c009d"
      },
      "outputs": [
        {
          "name": "stdout",
          "output_type": "stream",
          "text": [
            "Help on function func1 in module __main__:\n",
            "\n",
            "func1(s)\n",
            "    Print a string 's' and tell how many characters it has\n",
            "\n"
          ]
        }
      ],
      "source": [
        "help(func1)"
      ]
    },
    {
      "cell_type": "code",
      "execution_count": null,
      "metadata": {
        "id": "m6uSmMdqlkjz"
      },
      "outputs": [],
      "source": [
        "func1(\"test\")"
      ]
    },
    {
      "cell_type": "markdown",
      "metadata": {
        "id": "KBU63ro0lkjz"
      },
      "source": [
        "Functions that returns a value use the `return` keyword:"
      ]
    },
    {
      "cell_type": "code",
      "execution_count": null,
      "metadata": {
        "id": "9uSVQP1Elkj0"
      },
      "outputs": [],
      "source": [
        "def square(x):\n",
        "    \"\"\"\n",
        "    Return the square of x.\n",
        "    \"\"\"\n",
        "    return x ** 2"
      ]
    },
    {
      "cell_type": "code",
      "execution_count": null,
      "metadata": {
        "id": "VbfU6JDklkj0",
        "outputId": "976f3f51-4c77-4a50-9649-8223ed934587"
      },
      "outputs": [
        {
          "name": "stdout",
          "output_type": "stream",
          "text": [
            "16\n"
          ]
        }
      ],
      "source": [
        "print square(4)"
      ]
    },
    {
      "cell_type": "markdown",
      "metadata": {
        "id": "OKDSBErBlkj0"
      },
      "source": [
        "We can return multiple values from a function using tuples (see above):"
      ]
    },
    {
      "cell_type": "code",
      "execution_count": null,
      "metadata": {
        "id": "UQocuyswlkj0"
      },
      "outputs": [],
      "source": [
        "def powers(x):\n",
        "    \"\"\"\n",
        "    Return a few powers of x\n",
        "    \"\"\"\n",
        "    return x ** 2, x ** 3, x ** 4"
      ]
    },
    {
      "cell_type": "code",
      "execution_count": null,
      "metadata": {
        "id": "_woIBQ9plkj1",
        "outputId": "287efd9f-f88c-4f24-ebe4-1737da95e9b5"
      },
      "outputs": [
        {
          "name": "stdout",
          "output_type": "stream",
          "text": [
            "(9, 27, 81)\n"
          ]
        }
      ],
      "source": [
        "print powers(3)"
      ]
    },
    {
      "cell_type": "code",
      "execution_count": null,
      "metadata": {
        "id": "iyDtYFd4lkj1",
        "outputId": "871e23f9-be3c-42b9-fa44-1d6425129798"
      },
      "outputs": [
        {
          "name": "stdout",
          "output_type": "stream",
          "text": [
            "16\n"
          ]
        }
      ],
      "source": [
        "x2, x3, x4 = powers(3)\n",
        "\n",
        "print x4"
      ]
    },
    {
      "cell_type": "markdown",
      "metadata": {
        "id": "-xcAs3lslkj1"
      },
      "source": [
        "### Default argument and keyword arguments"
      ]
    },
    {
      "cell_type": "markdown",
      "metadata": {
        "id": "qlipsEetlkj1"
      },
      "source": [
        "In a definition of a function, we can give default values to the arguments the function takes:"
      ]
    },
    {
      "cell_type": "code",
      "execution_count": null,
      "metadata": {
        "id": "33vPVv-Wlkj2"
      },
      "outputs": [],
      "source": [
        "def myfunc(x, p=2, debug=False):\n",
        "    if debug:\n",
        "        print \"evaluating myfunc for x = \" + str(x) + \" using exponent p = \" + str(p)\n",
        "    return x**p"
      ]
    },
    {
      "cell_type": "markdown",
      "metadata": {
        "id": "J-8UCP7qlkj2"
      },
      "source": [
        "If we don't provide a value of the `debug` argument when calling the the function `myfunc` it defaults to the value provided in the function definition:"
      ]
    },
    {
      "cell_type": "code",
      "execution_count": null,
      "metadata": {
        "id": "VjnakVIIlkj2",
        "outputId": "1cc24820-55b2-418f-eeea-5c24be4af340"
      },
      "outputs": [
        {
          "name": "stdout",
          "output_type": "stream",
          "text": [
            "25\n"
          ]
        }
      ],
      "source": [
        "print myfunc(5)"
      ]
    },
    {
      "cell_type": "code",
      "execution_count": null,
      "metadata": {
        "id": "c3QJGafMlkj2",
        "outputId": "01fe49a7-c27a-412a-85f5-97dae7b8d2d3"
      },
      "outputs": [
        {
          "name": "stdout",
          "output_type": "stream",
          "text": [
            "evaluating myfunc for x = 5 using exponent p = 2\n",
            "25\n"
          ]
        }
      ],
      "source": [
        "print myfunc(5, debug=True)"
      ]
    },
    {
      "cell_type": "markdown",
      "metadata": {
        "id": "yPXJcV0_lkj3"
      },
      "source": [
        "If we explicitly list the name of the arguments in the function calls, they do not need to come in the same order as in the function definition. This is called *keyword* arguments, and is often very useful in functions that takes a lot of optional arguments."
      ]
    },
    {
      "cell_type": "code",
      "execution_count": null,
      "metadata": {
        "id": "WGtst2Itlkj3",
        "outputId": "9fa5c246-33f1-413a-b6d9-2d4951065e6d"
      },
      "outputs": [
        {
          "name": "stdout",
          "output_type": "stream",
          "text": [
            "evaluating myfunc for x = 7 using exponent p = 3\n",
            "343\n"
          ]
        }
      ],
      "source": [
        "print myfunc(p=3, debug=True, x=7)"
      ]
    },
    {
      "cell_type": "markdown",
      "metadata": {
        "id": "-6-y4TLWlkj3"
      },
      "source": [
        "### Unnamed functions (lambda function)"
      ]
    },
    {
      "cell_type": "markdown",
      "metadata": {
        "id": "qf4YMRCilkj3"
      },
      "source": [
        "In Python we can also create unnamed functions, using the `lambda` keyword:"
      ]
    },
    {
      "cell_type": "code",
      "execution_count": null,
      "metadata": {
        "id": "N0wLgBbWlkj4"
      },
      "outputs": [],
      "source": [
        "f1 = lambda x: x**2\n",
        "\n",
        "# is equivalent to\n",
        "\n",
        "def f2(x):\n",
        "    return x**2"
      ]
    },
    {
      "cell_type": "code",
      "execution_count": null,
      "metadata": {
        "id": "VbP-obqtlkj4",
        "outputId": "6afbc27c-5278-42ae-dab8-f8c1cbec331b"
      },
      "outputs": [
        {
          "name": "stdout",
          "output_type": "stream",
          "text": [
            "4 4\n"
          ]
        }
      ],
      "source": [
        "print f1(2), f2(2)"
      ]
    },
    {
      "cell_type": "markdown",
      "metadata": {
        "id": "O_c6326llkj4"
      },
      "source": [
        "This technique is useful for example when we want to pass a simple function as an argument to another function, like this:"
      ]
    },
    {
      "cell_type": "code",
      "execution_count": null,
      "metadata": {
        "id": "3-q9SyKflkj4",
        "outputId": "2b49ac98-c969-42ae-dfda-eb493cfa6a95"
      },
      "outputs": [
        {
          "name": "stdout",
          "output_type": "stream",
          "text": [
            "[9, 4, 1, 0, 1, 4, 9]\n"
          ]
        }
      ],
      "source": [
        "# map is a built-in python function\n",
        "print map(lambda x: x**2, range(-3,4))"
      ]
    },
    {
      "cell_type": "code",
      "execution_count": null,
      "metadata": {
        "id": "LfNxL5pklkj5",
        "outputId": "45d12cf4-18fd-46ba-d283-18499a7f17cf"
      },
      "outputs": [
        {
          "name": "stdout",
          "output_type": "stream",
          "text": [
            "[9, 4, 1, 0, 1, 4, 9]\n"
          ]
        }
      ],
      "source": [
        "# in python 3 we can use `list(...)` to convert the iterator to an explicit list\n",
        "print list(map(lambda x: x**2, range(-3,4)))"
      ]
    },
    {
      "cell_type": "markdown",
      "metadata": {
        "id": "KGhlfRH1lkj5"
      },
      "source": [
        "## Classes"
      ]
    },
    {
      "cell_type": "markdown",
      "metadata": {
        "id": "lNrFdIq7lkj5"
      },
      "source": [
        "Classes are the key features of object-oriented programming. A class is a structure for representing an object and the operations that can be performed on the object.\n",
        "\n",
        "In Python a class can contain *attributes* (variables) and *methods* (functions).\n",
        "\n",
        "A class is defined almost like a function, but using the `class` keyword, and the class definition usually contains a number of class method definitions (a function in a class).\n",
        "\n",
        "* Each class method should have an argument `self` as its first argument. This object is a self-reference.\n",
        "\n",
        "* Some class method names have special meaning, for example:\n",
        "\n",
        "    * `__init__`: The name of the method that is invoked when the object is first created.\n",
        "    * `__str__` : A method that is invoked when a simple string representation of the class is needed, as for example when printed.\n",
        "    * There are many more, see http://docs.python.org/2/reference/datamodel.html#special-method-names"
      ]
    },
    {
      "cell_type": "code",
      "execution_count": null,
      "metadata": {
        "id": "VHgrFs05lkj6"
      },
      "outputs": [],
      "source": [
        "class Point:\n",
        "    \"\"\"\n",
        "    Simple class for representing a point in a Cartesian coordinate system.\n",
        "    \"\"\"\n",
        "\n",
        "    def __init__(self, x, y):\n",
        "        \"\"\"\n",
        "        Create a new Point at x, y.\n",
        "        \"\"\"\n",
        "        self.x = x\n",
        "        self.y = y\n",
        "\n",
        "    def translate(self, dx, dy):\n",
        "        \"\"\"\n",
        "        Translate the point by dx and dy in the x and y direction.\n",
        "        \"\"\"\n",
        "        self.x += dx\n",
        "        self.y += dy\n",
        "\n",
        "    def __str__(self):\n",
        "        return(\"Point at [%f, %f]\" % (self.x, self.y))"
      ]
    },
    {
      "cell_type": "markdown",
      "metadata": {
        "id": "H8RGVFSxlkj6"
      },
      "source": [
        "To create a new instance of a class:"
      ]
    },
    {
      "cell_type": "code",
      "execution_count": null,
      "metadata": {
        "id": "hSifm8fglkj7",
        "outputId": "ba16c18a-cfb8-4ec7-f46d-c5d93597511f"
      },
      "outputs": [
        {
          "name": "stdout",
          "output_type": "stream",
          "text": [
            "Point at [0.000000, 0.000000]\n"
          ]
        }
      ],
      "source": [
        "p1 = Point(0, 0) # this will invoke the __init__ method in the Point class\n",
        "\n",
        "print p1         # this will invoke the __str__ method"
      ]
    },
    {
      "cell_type": "markdown",
      "metadata": {
        "id": "iF2HZt1Olkj8"
      },
      "source": [
        "To invoke a class method in the class instance `p`:"
      ]
    },
    {
      "cell_type": "code",
      "execution_count": null,
      "metadata": {
        "id": "Yi8qqKvFlkj8",
        "outputId": "ac36f986-de47-421e-eb21-8f8943cdb1c6"
      },
      "outputs": [
        {
          "name": "stdout",
          "output_type": "stream",
          "text": [
            "Point at [0.250000, 1.500000]\n",
            "Point at [1.000000, 1.000000]\n"
          ]
        }
      ],
      "source": [
        "p2 = Point(1, 1)\n",
        "\n",
        "p1.translate(0.25, 1.5)\n",
        "\n",
        "print p1\n",
        "print p2"
      ]
    },
    {
      "cell_type": "markdown",
      "metadata": {
        "id": "aYXVKEVwlkj9"
      },
      "source": [
        "Note that calling class methods can modifiy the state of that particular class instance, but does not effect other class instances or any global variables.\n",
        "\n",
        "That is one of the nice things about object-oriented design: code such as functions and related variables are grouped in separate and independent entities."
      ]
    },
    {
      "cell_type": "markdown",
      "metadata": {
        "id": "Kcg4f-ctlkkG"
      },
      "source": [
        "## Further reading"
      ]
    },
    {
      "cell_type": "markdown",
      "metadata": {
        "id": "FqX3H5nglkkG"
      },
      "source": [
        "* http://www.python.org - The official web page of the Python programming language.\n",
        "* http://www.python.org/dev/peps/pep-0008 - Style guide for Python programming. Highly recommended.\n",
        "* http://www.greenteapress.com/thinkpython/ - A free book on Python programming.\n",
        "* [Python Essential Reference](http://www.amazon.com/Python-Essential-Reference-4th-Edition/dp/0672329786) - A good reference book on Python programming."
      ]
    }
  ],
  "metadata": {
    "anaconda-cloud": {},
    "kernelspec": {
      "display_name": "Python 3",
      "language": "python",
      "name": "python3"
    },
    "language_info": {
      "codemirror_mode": {
        "name": "ipython",
        "version": 2
      },
      "file_extension": ".py",
      "mimetype": "text/x-python",
      "name": "python",
      "nbconvert_exporter": "python",
      "pygments_lexer": "ipython2",
      "version": "2.7.15rc1"
    },
    "colab": {
      "provenance": []
    }
  },
  "nbformat": 4,
  "nbformat_minor": 0
}